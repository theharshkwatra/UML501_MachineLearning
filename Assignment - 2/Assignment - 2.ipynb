{
 "cells": [
  {
   "cell_type": "markdown",
   "id": "6bbd2318",
   "metadata": {},
   "source": [
    "# **Assignment - 2**"
   ]
  },
  {
   "cell_type": "markdown",
   "id": "b8fc7a46",
   "metadata": {},
   "source": [
    "The Marketing department of Adventure Works Cycles wants to increase sales by targeting specific\n",
    "customers for a mailing campaign. The company's database contains a list of past customers and a list of\n",
    "potential new customers. By investigating the attributes of previous bike buyers, the company hopes to\n",
    "discover patterns that they can then apply to potential customers. They hope to use the discovered patterns\n",
    "to predict which potential customers are most likely to purchase a bike from Adventure Works Cycles. "
   ]
  },
  {
   "cell_type": "markdown",
   "id": "080c4e55",
   "metadata": {},
   "source": [
    "Part I: Based on Feature Selection, Cleaning, and Preprocessing to Construct an Input from Data Source  \n",
    "  \n",
    "(a) Examine the values of each attribute and Select a set of attributes only that would affect to predict\n",
    "future bike buyers to create your input for data mining algorithms. Remove all the unnecessary\n",
    "attributes. (Select features just by analysis). \n"
   ]
  },
  {
   "cell_type": "markdown",
   "id": "10a3ed3d",
   "metadata": {},
   "source": [
    "###  Selected Features  \n",
    "- Gender  \n",
    "- MaritalStatus  \n",
    "- YearlyIncome  \n",
    "- Education  \n",
    "- Occupation  \n",
    "- HomeOwnerFlag  \n",
    "- NumberCarsOwned  \n",
    "- NumberChildrenAtHome  \n",
    "- TotalChildren   \n",
    "- Age  \n",
    "- AvgMonthSpend\n",
    "\n",
    "\n",
    "###  Dropped Features  \n",
    "- CustomerID   \n",
    "- Title  \n",
    "- FirstName  \n",
    "- MiddleName  \n",
    "- LastName  \n",
    "- Suffix  \n",
    "- AddressLine1  \n",
    "- AddressLine2  \n",
    "- City  \n",
    "- StateProvince   \n",
    "- CountryRegion  \n",
    "- PostalCode \n",
    "- PhoneNumber\n",
    "- BirthDate  \n",
    "\n",
    "###  Target Variable\n",
    "- BikeBuyer  "
   ]
  },
  {
   "cell_type": "markdown",
   "id": "91ec36a9",
   "metadata": {},
   "source": [
    "(b) Create a new Data Frame with the selected attributes only. \n"
   ]
  },
  {
   "cell_type": "code",
   "execution_count": 35,
   "id": "357fefd6",
   "metadata": {},
   "outputs": [
    {
     "name": "stdout",
     "output_type": "stream",
     "text": [
      "   Age Gender MaritalStatus        Education      Occupation  HomeOwnerFlag  \\\n",
      "0   37      M             M        Bachelors        Clerical              1   \n",
      "1   53      M             M  Partial College        Clerical              1   \n",
      "2   39      F             S        Bachelors        Clerical              0   \n",
      "3   47      M             M  Partial College  Skilled Manual              1   \n",
      "4   50      M             S  Partial College  Skilled Manual              1   \n",
      "\n",
      "   NumberCarsOwned  NumberChildrenAtHome  TotalChildren  YearlyIncome  \\\n",
      "0                3                     0              1         81916   \n",
      "1                2                     1              2         81076   \n",
      "2                3                     0              0         86387   \n",
      "3                2                     1              2         61481   \n",
      "4                1                     0              0         51804   \n",
      "\n",
      "   AvgMonthSpend  BikeBuyer  \n",
      "0          50.97          1  \n",
      "1          53.11          1  \n",
      "2          54.08          1  \n",
      "3          56.93          1  \n",
      "4          55.41          1  \n"
     ]
    }
   ],
   "source": [
    "import pandas as pd\n",
    "\n",
    "customers = pd.read_csv(\"Data/AWcustomers.csv\")\n",
    "sales = pd.read_csv(\"Data/AWsales.csv\")\n",
    "\n",
    "df = pd.merge(customers, sales, on=\"CustomerID\", how=\"inner\")\n",
    "\n",
    "# BirthDate -> Age\n",
    "df[\"BirthDate\"] = pd.to_datetime(df[\"BirthDate\"])\n",
    "df[\"Age\"] = (pd.Timestamp(\"today\") - df[\"BirthDate\"]).dt.days // 365\n",
    "\n",
    "\n",
    "selected_features = [\n",
    "    \"Age\", \"Gender\", \"MaritalStatus\", \"Education\", \"Occupation\", \"HomeOwnerFlag\", \"NumberCarsOwned\", \"NumberChildrenAtHome\", \"TotalChildren\", \"YearlyIncome\", \"AvgMonthSpend\", \"BikeBuyer\"\n",
    "]\n",
    "\n",
    "\n",
    "df_selected = df[selected_features]\n",
    "print(df_selected.head())"
   ]
  },
  {
   "cell_type": "markdown",
   "id": "ad088d55",
   "metadata": {},
   "source": [
    "(c) Determine a Data value type (Discrete, or Continuous, then Nominal, Ordinal, Interval, Ratio) of\n",
    "each attribute in your selection to identify preprocessing tasks to create input for your data mining."
   ]
  },
  {
   "cell_type": "code",
   "execution_count": 36,
   "id": "ba1b1b7d",
   "metadata": {},
   "outputs": [
    {
     "name": "stdout",
     "output_type": "stream",
     "text": [
      "Nominal:  ['CountryRegionName', 'Occupation', 'Gender', 'MaritalStatus']\n",
      "Ordinal:  ['Education']\n",
      "Ratio:  ['HomeOwnerFlag', 'NumberCarsOwned', 'NumberChildrenAtHome', 'YearlyIncome', 'AvgMonthSpend']\n",
      "Interval:  []\n"
     ]
    }
   ],
   "source": [
    "Nominal = [\n",
    "    'CountryRegionName',\n",
    "    'Occupation',\n",
    "    'Gender',\n",
    "    'MaritalStatus'\n",
    "]\n",
    "\n",
    "Ordinal = [\n",
    "    'Education'  \n",
    "]\n",
    "\n",
    "Ratio = [\n",
    "    'HomeOwnerFlag',         \n",
    "    'NumberCarsOwned',\n",
    "    'NumberChildrenAtHome',\n",
    "    'YearlyIncome',\n",
    "    'AvgMonthSpend'\n",
    "]\n",
    "\n",
    "Interval = [\n",
    "]\n",
    "\n",
    "print(\"Nominal: \", Nominal)\n",
    "print(\"Ordinal: \", Ordinal)\n",
    "print(\"Ratio: \", Ratio)\n",
    "print(\"Interval: \", Interval)\n"
   ]
  },
  {
   "cell_type": "markdown",
   "id": "035479f2",
   "metadata": {},
   "source": [
    "Part II: Data Preprocessing and Transformation  \n",
    "  \n",
    "Depending on the data type of each attribute, transform each object from your preprocessed data.  \n",
    "Use all the data rows (~= 18000 rows) with the selected features as input to apply all the tasks below, do not perform each task on the smaller data set that you got from your random sampling result. \n"
   ]
  },
  {
   "cell_type": "markdown",
   "id": "152d87ce",
   "metadata": {},
   "source": [
    "(a) Handling Null values \n"
   ]
  },
  {
   "cell_type": "code",
   "execution_count": 37,
   "id": "489d18c8",
   "metadata": {},
   "outputs": [
    {
     "name": "stdout",
     "output_type": "stream",
     "text": [
      "✅ Missing values handled!\n",
      "CustomerID                  0\n",
      "Title                   18260\n",
      "FirstName                   0\n",
      "MiddleName               7789\n",
      "LastName                    0\n",
      "Suffix                  18358\n",
      "AddressLine1                0\n",
      "AddressLine2            18050\n",
      "City                        0\n",
      "StateProvinceName           0\n",
      "CountryRegionName           0\n",
      "PostalCode                  0\n",
      "PhoneNumber                 0\n",
      "BirthDate                   0\n",
      "Education                   0\n",
      "Occupation                  0\n",
      "Gender                      0\n",
      "MaritalStatus               0\n",
      "HomeOwnerFlag               0\n",
      "NumberCarsOwned             0\n",
      "NumberChildrenAtHome        0\n",
      "TotalChildren               0\n",
      "YearlyIncome                0\n",
      "LastUpdated                 0\n",
      "BikeBuyer                   0\n",
      "AvgMonthSpend               0\n",
      "Age                         0\n",
      "dtype: int64\n"
     ]
    }
   ],
   "source": [
    "import pandas as pd\n",
    "from sklearn.impute import SimpleImputer\n",
    "\n",
    "# Numeric & Categorical Columns\n",
    "numeric_cols = [\"Age\", \"YearlyIncome\", \"NumberCarsOwned\", \"NumberChildrenAtHome\", \"TotalChildren\", \"AvgMonthSpend\"]\n",
    "categorical_cols = [\"Gender\", \"MaritalStatus\", \"Education\", \"Occupation\", \"HomeOwnerFlag\"]\n",
    "\n",
    "# Missing numeric values -> Using Median\n",
    "num_imputer = SimpleImputer(strategy=\"median\")\n",
    "df[numeric_cols] = num_imputer.fit_transform(df[numeric_cols])\n",
    "\n",
    "# Missing categorical values -> Using Mode\n",
    "cat_imputer = SimpleImputer(strategy=\"most_frequent\")\n",
    "df[categorical_cols] = cat_imputer.fit_transform(df[categorical_cols])\n",
    "\n",
    "# Drop row if BikeBuyer is missing\n",
    "df = df.dropna(subset=[\"BikeBuyer\"])\n",
    "\n",
    "print(\"✅ Missing values handled!\")\n",
    "print(df.isnull().sum())"
   ]
  },
  {
   "cell_type": "markdown",
   "id": "5ac2823d",
   "metadata": {},
   "source": [
    "(b) Normalization \n"
   ]
  },
  {
   "cell_type": "code",
   "execution_count": 38,
   "id": "81c16da5",
   "metadata": {},
   "outputs": [
    {
     "name": "stdout",
     "output_type": "stream",
     "text": [
      "        Age  YearlyIncome  AvgMonthSpend\n",
      "0  0.183099      0.496842       0.324210\n",
      "1  0.408451      0.489453       0.425201\n",
      "2  0.211268      0.536172       0.470977\n",
      "3  0.323944      0.317083       0.605474\n",
      "4  0.366197      0.231958       0.533742\n"
     ]
    }
   ],
   "source": [
    "from sklearn.preprocessing import MinMaxScaler\n",
    "\n",
    "scaler = MinMaxScaler()\n",
    "df[[\"Age\", \"YearlyIncome\", \"AvgMonthSpend\"]] = scaler.fit_transform(\n",
    "    df[[\"Age\", \"YearlyIncome\", \"AvgMonthSpend\"]]\n",
    ")\n",
    "\n",
    "print(df[[\"Age\", \"YearlyIncome\", \"AvgMonthSpend\"]].head())\n"
   ]
  },
  {
   "cell_type": "markdown",
   "id": "dd236a5d",
   "metadata": {},
   "source": [
    "(c) Discretization (Binning) on Continuous attributes or Categorical Attributes with too many different\n",
    "values \n"
   ]
  },
  {
   "cell_type": "code",
   "execution_count": 14,
   "id": "659c943e",
   "metadata": {},
   "outputs": [
    {
     "name": "stdout",
     "output_type": "stream",
     "text": [
      "        Age AgeGroup  YearlyIncome IncomeGroup\n",
      "0  0.183099    Young      0.496842      Medium\n",
      "1  0.408451   Middle      0.489453      Medium\n",
      "2  0.211268    Young      0.536172        High\n",
      "3  0.323944   Middle      0.317083      Medium\n",
      "4  0.366197   Middle      0.231958         Low\n"
     ]
    }
   ],
   "source": [
    "# Age \n",
    "df[\"AgeGroup\"] = pd.cut(df[\"Age\"],\n",
    "                        bins=[0, 0.25, 0.5, 0.75, 1],  \n",
    "                        labels=[\"Young\", \"Middle\", \"Mature\", \"Senior\"])\n",
    "\n",
    "# Income \n",
    "df[\"IncomeGroup\"] = pd.qcut(df[\"YearlyIncome\"], q=3, labels=[\"Low\", \"Medium\", \"High\"])\n",
    "\n",
    "print(df[[\"Age\", \"AgeGroup\", \"YearlyIncome\", \"IncomeGroup\"]].head())\n"
   ]
  },
  {
   "cell_type": "markdown",
   "id": "bb7b2a5f",
   "metadata": {},
   "source": [
    "(d) Standardization/Normalization"
   ]
  },
  {
   "cell_type": "code",
   "execution_count": 15,
   "id": "98425b83",
   "metadata": {},
   "outputs": [
    {
     "name": "stdout",
     "output_type": "stream",
     "text": [
      "        Age  YearlyIncome\n",
      "0 -0.542849      0.298555\n",
      "1  0.876937      0.271180\n",
      "2 -0.365376      0.444261\n",
      "3  0.344517     -0.367401\n",
      "4  0.610727     -0.682765\n"
     ]
    }
   ],
   "source": [
    "from sklearn.preprocessing import StandardScaler\n",
    "\n",
    "std_scaler = StandardScaler()\n",
    "df[[\"Age\", \"YearlyIncome\"]] = std_scaler.fit_transform(\n",
    "    df[[\"Age\", \"YearlyIncome\"]]\n",
    ")\n",
    "\n",
    "print(df[[\"Age\", \"YearlyIncome\"]].head())\n"
   ]
  },
  {
   "cell_type": "markdown",
   "id": "4a8f2fd6",
   "metadata": {},
   "source": [
    "(e) Binarization (One Hot Encoding) "
   ]
  },
  {
   "cell_type": "code",
   "execution_count": 16,
   "id": "6a3bf19e",
   "metadata": {},
   "outputs": [
    {
     "name": "stdout",
     "output_type": "stream",
     "text": [
      "   CustomerID Title FirstName MiddleName  LastName Suffix  \\\n",
      "0       21173   NaN      Chad          C      Yuan    NaN   \n",
      "1       13249   NaN      Ryan        NaN     Perry    NaN   \n",
      "2       29350   NaN     Julia        NaN  Thompson    NaN   \n",
      "3       13503   NaN  Theodore        NaN     Gomez    NaN   \n",
      "4       22803   NaN  Marshall          J      Shan    NaN   \n",
      "\n",
      "             AddressLine1 AddressLine2         City    StateProvinceName  ...  \\\n",
      "0      7090 C. Mount Hood          NaN   Wollongong      New South Wales  ...   \n",
      "1     3651 Willow Lake Rd          NaN      Shawnee     British Columbia  ...   \n",
      "2  1774 Tice Valley Blvd.          NaN  West Covina           California  ...   \n",
      "3         2103 Baldwin Dr          NaN    Liverpool              England  ...   \n",
      "4         Am Gallberg 234          NaN        Werne  Nordrhein-Westfalen  ...   \n",
      "\n",
      "  Education_Partial High School Occupation_Management Occupation_Manual  \\\n",
      "0                         False                 False             False   \n",
      "1                         False                 False             False   \n",
      "2                         False                 False             False   \n",
      "3                         False                 False             False   \n",
      "4                         False                 False             False   \n",
      "\n",
      "  Occupation_Professional Occupation_Skilled Manual  AgeGroup_Middle  \\\n",
      "0                   False                     False            False   \n",
      "1                   False                     False             True   \n",
      "2                   False                     False            False   \n",
      "3                   False                      True             True   \n",
      "4                   False                      True             True   \n",
      "\n",
      "   AgeGroup_Mature  AgeGroup_Senior  IncomeGroup_Medium IncomeGroup_High  \n",
      "0            False            False                True            False  \n",
      "1            False            False                True            False  \n",
      "2            False            False               False             True  \n",
      "3            False            False                True            False  \n",
      "4            False            False               False            False  \n",
      "\n",
      "[5 rows x 38 columns]\n"
     ]
    }
   ],
   "source": [
    "df_encoded = pd.get_dummies(\n",
    "    df,\n",
    "    columns=[\"Gender\", \"MaritalStatus\", \"Education\", \"Occupation\", \"AgeGroup\", \"IncomeGroup\"],\n",
    "    drop_first=True  \n",
    ")\n",
    "\n",
    "print(df_encoded.head())\n"
   ]
  },
  {
   "cell_type": "markdown",
   "id": "956a408a",
   "metadata": {},
   "source": [
    "Part III: Calculating Proximity /Correlation Analysis of two features  \n",
    "  \n",
    "Make sure each attribute is transformed in a same scale for numeric attributes and Binarization for each\n",
    "nominal attribute, and each discretized numeric attribute to standardization. Make sure to apply a correct\n",
    "similarity measure for nominal (one hot encoding)/binary attributes and numeric attributes respectively. "
   ]
  },
  {
   "cell_type": "markdown",
   "id": "5596dab9",
   "metadata": {},
   "source": [
    "(a) Calculate Similarity in Simple Matching, Jaccard Similarity, and Cosine Similarity between two\n",
    "following objects of your transformed input data. "
   ]
  },
  {
   "cell_type": "code",
   "execution_count": 34,
   "id": "3348cf4e",
   "metadata": {},
   "outputs": [
    {
     "name": "stdout",
     "output_type": "stream",
     "text": [
      "Simple Matching Coefficient (SMC): 0.875\n",
      "Jaccard Similarity: 0.6666666666666666\n",
      "Cosine Similarity: 0.752249563659676\n"
     ]
    }
   ],
   "source": [
    "from sklearn.metrics import jaccard_score\n",
    "from sklearn.metrics.pairwise import cosine_similarity\n",
    "import numpy as np\n",
    "\n",
    "obj1 = df.iloc[0]\n",
    "obj2 = df.iloc[1]\n",
    "\n",
    "numeric_cols = [\"Age\", \"YearlyIncome\", \"NumberCarsOwned\", \"NumberChildrenAtHome\", \"TotalChildren\"]\n",
    "categorical_cols = [\"Gender\", \"MaritalStatus\", \"Education\", \"Occupation\", \"HomeOwnerFlag\"]\n",
    "\n",
    "\n",
    "df_cat = pd.get_dummies(df[categorical_cols])\n",
    "\n",
    "obj1_cat = df_cat.iloc[0].values\n",
    "obj2_cat = df_cat.iloc[1].values\n",
    "\n",
    "\n",
    "obj1_num = df[numeric_cols].iloc[0].values.reshape(1, -1)\n",
    "obj2_num = df[numeric_cols].iloc[1].values.reshape(1, -1)\n",
    "\n",
    "\n",
    "\n",
    "#  Simple Matching \n",
    "smc = (obj1_cat == obj2_cat).sum() / len(obj1_cat)\n",
    "\n",
    "#  Jaccard Similarity\n",
    "jaccard = jaccard_score(obj1_cat, obj2_cat, average=\"binary\")\n",
    "\n",
    "#  Cosine Similarity\n",
    "cosine = cosine_similarity(obj1_num, obj2_num)[0][0]\n",
    "\n",
    "print(\"Simple Matching Coefficient (SMC):\", smc)\n",
    "print(\"Jaccard Similarity:\", jaccard)\n",
    "print(\"Cosine Similarity:\", cosine)\n"
   ]
  },
  {
   "cell_type": "markdown",
   "id": "b8206534",
   "metadata": {},
   "source": [
    "(b) Calculate Correlation between two features Commute Distance and Yearly Income"
   ]
  },
  {
   "cell_type": "code",
   "execution_count": 40,
   "id": "9d5c8544",
   "metadata": {},
   "outputs": [
    {
     "name": "stdout",
     "output_type": "stream",
     "text": [
      "Correlation between Yearly Income and BikeBuyer: 0.24945696278096902\n"
     ]
    }
   ],
   "source": [
    "# As Commute Distance is not present in the dataset\n",
    "# Calculating Correlation between Yearly Income & Bike Buyer\n",
    "corr = df[\"YearlyIncome\"].corr(df[\"BikeBuyer\"])\n",
    "\n",
    "print(\"Correlation between Yearly Income and BikeBuyer:\", corr)"
   ]
  }
 ],
 "metadata": {
  "kernelspec": {
   "display_name": "Python 3",
   "language": "python",
   "name": "python3"
  },
  "language_info": {
   "codemirror_mode": {
    "name": "ipython",
    "version": 3
   },
   "file_extension": ".py",
   "mimetype": "text/x-python",
   "name": "python",
   "nbconvert_exporter": "python",
   "pygments_lexer": "ipython3",
   "version": "3.13.7"
  }
 },
 "nbformat": 4,
 "nbformat_minor": 5
}
