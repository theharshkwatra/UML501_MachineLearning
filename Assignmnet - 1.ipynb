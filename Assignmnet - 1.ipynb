{
 "cells": [
  {
   "cell_type": "markdown",
   "id": "44959ecd",
   "metadata": {},
   "source": [
    "# **Assignment - 1**"
   ]
  },
  {
   "cell_type": "code",
   "execution_count": 1,
   "id": "2a2c63f0",
   "metadata": {},
   "outputs": [],
   "source": [
    "# %%\n",
    "import numpy as np\n",
    "from collections import Counter"
   ]
  },
  {
   "cell_type": "markdown",
   "id": "e5d00dec",
   "metadata": {},
   "source": [
    "### Ques1. Questions on Basic NumPy Array  \n",
    "  \n",
    "\n",
    "  (a) Reverse the NumPy array: arr = np.array([1, 2, 3, 6, 4, 5]) \n",
    "       "
   ]
  },
  {
   "cell_type": "code",
   "execution_count": 2,
   "id": "ff0460e4",
   "metadata": {},
   "outputs": [
    {
     "name": "stdout",
     "output_type": "stream",
     "text": [
      "[5 4 6 3 2 1]\n"
     ]
    }
   ],
   "source": [
    "# (a)\n",
    "arr = np.array([1,2,3,6,4,5])\n",
    "reversed_arr = arr[::-1]\n",
    "print(reversed_arr)"
   ]
  },
  {
   "cell_type": "markdown",
   "id": "570391bd",
   "metadata": {},
   "source": [
    "(b) Flatten the NumPy arr:  array1 = np.array([[1, 2, 3], [2, 4, 5], [1, 2, 3]]) using any two NumPy in-built methods"
   ]
  },
  {
   "cell_type": "code",
   "execution_count": 3,
   "id": "472df137",
   "metadata": {},
   "outputs": [
    {
     "name": "stdout",
     "output_type": "stream",
     "text": [
      "Using flatten(): [1 2 3 2 4 5 1 2 3]\n",
      "Using ravel(): [1 2 3 2 4 5 1 2 3]\n"
     ]
    }
   ],
   "source": [
    "# (b)\n",
    "array1 = np.array([[1,2,3],[2,4,5],[1,2,3]])\n",
    "flat1 = array1.flatten()\n",
    "print(\"Using flatten():\", flat1)\n",
    "\n",
    "flat2 = array1.ravel()\n",
    "print(\"Using ravel():\", flat2)\n"
   ]
  },
  {
   "cell_type": "markdown",
   "id": "0adb9294",
   "metadata": {},
   "source": [
    "(c) Compare the following numpy arrays:  \n",
    "arr1 = np.array([[1, 2], [3, 4]])  \n",
    "arr2 = np.array([[1, 2], [3, 4]]) "
   ]
  },
  {
   "cell_type": "code",
   "execution_count": 4,
   "id": "0ba144e7",
   "metadata": {},
   "outputs": [
    {
     "name": "stdout",
     "output_type": "stream",
     "text": [
      "True\n"
     ]
    }
   ],
   "source": [
    "# (c)\n",
    "arr1 = np.array([[1,2],[3,4]])\n",
    "arr2 = np.array([[1,2],[3,4]])\n",
    "comparision = np.array_equal(arr1,arr2)\n",
    "print(comparision)"
   ]
  },
  {
   "cell_type": "markdown",
   "id": "45131ed5",
   "metadata": {},
   "source": [
    "(d) Find the most frequent value and their indice(s) in the following arrays:  \n",
    "i. x = np.array([1,2,3,4,5,1,2,1,1,1])  \n",
    "ii. y = np.array([1, 1, 1, 2, 3, 4, 2, 4, 3, 3, ]) "
   ]
  },
  {
   "cell_type": "code",
   "execution_count": 5,
   "id": "1a22aeb1",
   "metadata": {},
   "outputs": [
    {
     "name": "stdout",
     "output_type": "stream",
     "text": [
      "1 [0 5 7 8 9]\n",
      "1 [0 1 2]\n"
     ]
    }
   ],
   "source": [
    "# (d)\n",
    "def most_freq_info(x):\n",
    "  vals,counts = np.unique(x,return_counts=True)\n",
    "  most_freq = vals[np.argmax(counts)]\n",
    "  indices = np.where(x == most_freq)[0]\n",
    "  return most_freq,indices\n",
    "\n",
    "x = np.array([1,2,3,4,5,1,2,1,1,1])\n",
    "y = np.array([1,1,1,2,3,4,2,4,3,3])\n",
    "freq_x,idx_x = most_freq_info(x)\n",
    "freq_y,idx_y = most_freq_info(y)\n",
    "print(freq_x,idx_x)\n",
    "print(freq_y,idx_y)"
   ]
  },
  {
   "cell_type": "markdown",
   "id": "aca65666",
   "metadata": {},
   "source": [
    "(e) For the array gfg = np.matrix('[4, 1, 9; 12, 3, 1; 4, 5, 6]'), find  \n",
    "i. Sum of all elements   \n",
    "ii. Sum of all elements row-wise   \n",
    "iii. Sum of all elements column-wise  "
   ]
  },
  {
   "cell_type": "code",
   "execution_count": 6,
   "id": "276aee9a",
   "metadata": {},
   "outputs": [
    {
     "name": "stdout",
     "output_type": "stream",
     "text": [
      "Total Sum : 45\n",
      "Row Sum : [14 16 15]\n",
      "Column Sum : [20  9 16]\n"
     ]
    }
   ],
   "source": [
    "# (e)\n",
    "gfg = np.matrix('[4,1,9;12,3,1;4,5,6]')\n",
    "total_sum = np.sum(gfg)\n",
    "row_sum = np.sum(gfg,axis=1).A1\n",
    "col_sum = np.sum(gfg,axis=0).A1\n",
    "print('Total Sum :',total_sum)\n",
    "print('Row Sum :',row_sum)\n",
    "print('Column Sum :',col_sum)"
   ]
  },
  {
   "cell_type": "markdown",
   "id": "19588c46",
   "metadata": {},
   "source": [
    "(f) For the matrix: n_array = np.array([[55, 25, 15],[30, 44, 2],[11, 45, 77]]), find  \n",
    "i. Sum of diagonal elements  \n",
    "ii. Eigen values of matrix  \n",
    "iii. Eigen vectors of matrix  \n",
    "iv. Inverse of matrix  \n",
    "v. Determinant of matrix  "
   ]
  },
  {
   "cell_type": "code",
   "execution_count": 7,
   "id": "1fa0f0fd",
   "metadata": {},
   "outputs": [
    {
     "name": "stdout",
     "output_type": "stream",
     "text": [
      "Diagonal Sum : 176\n",
      "Eigen Values : [98.16835147 28.097044   49.73460452]\n",
      "Eigen Vectors : \n",
      " [[ 0.4574917   0.34637121 -0.15017693]\n",
      " [ 0.28447814 -0.72784061 -0.4852124 ]\n",
      " [ 0.84248058  0.59184038  0.8614034 ]]\n",
      "Inverse : \n",
      " [[ 0.02404141 -0.00911212 -0.00444671]\n",
      " [-0.01667882  0.02966905  0.0024785 ]\n",
      " [ 0.00631287 -0.01603732  0.01217379]]\n",
      "Determinant : 137180.0000000001\n"
     ]
    }
   ],
   "source": [
    "# (f)\n",
    "n_array = np.array([[55,25,15],[30,44,2],[11,45,77]])\n",
    "diag_sum = np.trace(n_array)\n",
    "eigen_values,eigen_vectors = np.linalg.eig(n_array)\n",
    "inverse = np.linalg.inv(n_array)\n",
    "det = np.linalg.det(n_array)\n",
    "print('Diagonal Sum :',diag_sum)\n",
    "print('Eigen Values :',eigen_values)\n",
    "print('Eigen Vectors : \\n',eigen_vectors)\n",
    "print('Inverse : \\n',inverse)\n",
    "print('Determinant :',det)"
   ]
  },
  {
   "cell_type": "markdown",
   "id": "94641b7d",
   "metadata": {},
   "source": [
    "(g) Multiply the following matrices and also find covariance between matrices using NumPy:  \n",
    "i. p = [[1, 2], [2, 3]]   \n",
    "q = [[4, 5], [6, 7]]    \n",
    "  \n",
    "ii. p = [[1, 2], [2, 3], [4, 5]]  \n",
    "q = [[4, 5, 1], [6, 7, 2]] "
   ]
  },
  {
   "cell_type": "code",
   "execution_count": 8,
   "id": "9ef624e1",
   "metadata": {},
   "outputs": [
    {
     "name": "stdout",
     "output_type": "stream",
     "text": [
      "Product : \n",
      " [[16 19]\n",
      " [26 31]]\n",
      "Covarience : \n",
      " [[0.5 0.5 1.  1. ]\n",
      " [0.5 0.5 1.  1. ]\n",
      " [1.  1.  2.  2. ]\n",
      " [1.  1.  2.  2. ]]\n"
     ]
    }
   ],
   "source": [
    "# (g)\n",
    "  # (i)\n",
    "p1 = np.array([[1,2],[2,3]])\n",
    "q1 = np.array([[4,5],[6,7]])\n",
    "product1 = np.dot(p1,q1)\n",
    "cov1 = np.cov(p1.T,q1.T)\n",
    "print('Product : \\n',product1)\n",
    "print('Covarience : \\n',cov1)"
   ]
  },
  {
   "cell_type": "code",
   "execution_count": 9,
   "id": "52532185",
   "metadata": {},
   "outputs": [
    {
     "name": "stdout",
     "output_type": "stream",
     "text": [
      "Product : \n",
      " [[16 19  5]\n",
      " [26 31  8]\n",
      " [46 55 14]]\n",
      "Covarience : \n",
      " [[ 2.33333333  2.33333333 -2.66666667 -3.5       ]\n",
      " [ 2.33333333  2.33333333 -2.66666667 -3.5       ]\n",
      " [-2.66666667 -2.66666667  4.33333333  5.5       ]\n",
      " [-3.5        -3.5         5.5         7.        ]]\n"
     ]
    }
   ],
   "source": [
    "  # (ii)\n",
    "p2 = np.array([[1, 2], [2, 3], [4, 5]])\n",
    "q2 = np.array([[4, 5, 1], [6, 7, 2]])\n",
    "product2 = np.dot(p2, q2)\n",
    "cov2 = np.cov(p2.T, q2)\n",
    "print('Product : \\n',product2)\n",
    "print('Covarience : \\n',cov2)"
   ]
  },
  {
   "cell_type": "markdown",
   "id": "11f6b4af",
   "metadata": {},
   "source": [
    "(h) For the matrices: x = np.array([[2, 3, 4], [3, 2, 9]]); y = np.array([[1, 5, 0], [5, 10, 3]]), \n",
    "find inner, outer and cartesian product? "
   ]
  },
  {
   "cell_type": "code",
   "execution_count": 10,
   "id": "b2711662",
   "metadata": {},
   "outputs": [
    {
     "name": "stdout",
     "output_type": "stream",
     "text": [
      "Inner : \n",
      " [[17 52]\n",
      " [13 62]]\n",
      "Outer : \n",
      " [[ 2 10  0 10 20  6]\n",
      " [ 3 15  0 15 30  9]\n",
      " [ 4 20  0 20 40 12]\n",
      " [ 3 15  0 15 30  9]\n",
      " [ 2 10  0 10 20  6]\n",
      " [ 9 45  0 45 90 27]]\n",
      "Cartesian : \n",
      " [[ 2  1]\n",
      " [ 2  5]\n",
      " [ 2  0]\n",
      " [ 2  5]\n",
      " [ 2 10]\n",
      " [ 2  3]\n",
      " [ 3  1]\n",
      " [ 3  5]\n",
      " [ 3  0]\n",
      " [ 3  5]\n",
      " [ 3 10]\n",
      " [ 3  3]\n",
      " [ 4  1]\n",
      " [ 4  5]\n",
      " [ 4  0]\n",
      " [ 4  5]\n",
      " [ 4 10]\n",
      " [ 4  3]\n",
      " [ 3  1]\n",
      " [ 3  5]\n",
      " [ 3  0]\n",
      " [ 3  5]\n",
      " [ 3 10]\n",
      " [ 3  3]\n",
      " [ 2  1]\n",
      " [ 2  5]\n",
      " [ 2  0]\n",
      " [ 2  5]\n",
      " [ 2 10]\n",
      " [ 2  3]\n",
      " [ 9  1]\n",
      " [ 9  5]\n",
      " [ 9  0]\n",
      " [ 9  5]\n",
      " [ 9 10]\n",
      " [ 9  3]]\n"
     ]
    }
   ],
   "source": [
    "# (h)\n",
    "x = np.array([[2, 3, 4], [3, 2, 9]])\n",
    "y = np.array([[1, 5, 0], [5, 10, 3]])\n",
    "inner = np.inner(x, y)\n",
    "outer = np.outer(x.flatten(), y.flatten())\n",
    "cartesian = np.array(np.meshgrid(x.flatten(), y.flatten())).T.reshape(-1, 2)\n",
    "print('Inner : \\n',inner)\n",
    "print('Outer : \\n',outer)\n",
    "print('Cartesian : \\n',cartesian)"
   ]
  },
  {
   "cell_type": "markdown",
   "id": "b74b6693",
   "metadata": {},
   "source": [
    "### Ques2. Based on NumPy Mathematics and Statistics   \n",
    "  \n",
    "For the array: array = np.array([[1, -2, 3],[-4, 5, -6]])  \n",
    "i. Find element-wise absolute value  \n",
    "ii. Find the 25th, 50th, and 75th percentile of flattened array, for each column, for each \n",
    "row.  \n",
    "iii. Mean, Median and Standard Deviation of flattened array, of each column, and \n",
    "each row  "
   ]
  },
  {
   "cell_type": "code",
   "execution_count": 11,
   "id": "df12bfa6",
   "metadata": {},
   "outputs": [
    {
     "name": "stdout",
     "output_type": "stream",
     "text": [
      "[[1 2 3]\n",
      " [4 5 6]]\n"
     ]
    }
   ],
   "source": [
    "# (a)\n",
    "  # (i)\n",
    "array = np.array([[1, -2, 3],[-4, 5, -6]])\n",
    "abs_array = np.abs(array)\n",
    "print(abs_array)"
   ]
  },
  {
   "cell_type": "code",
   "execution_count": 12,
   "id": "0478da95",
   "metadata": {},
   "outputs": [
    {
     "name": "stdout",
     "output_type": "stream",
     "text": [
      "Percentile of Flattened array : [-3.5 -0.5  2.5]\n",
      "Percentile of each Column : \n",
      " [[-2.75 -0.25 -3.75]\n",
      " [-1.5   1.5  -1.5 ]\n",
      " [-0.25  3.25  0.75]]\n",
      "Percentile of each row : \n",
      " [[-0.5 -5. ]\n",
      " [ 1.  -4. ]\n",
      " [ 2.   0.5]]\n"
     ]
    }
   ],
   "source": [
    "  # (ii)\n",
    "flat = array.flatten()\n",
    "p_flat = np.percentile(flat, [25, 50, 75])\n",
    "p_col = np.percentile(array, [25, 50, 75], axis=0)\n",
    "p_row = np.percentile(array, [25, 50, 75], axis=1)\n",
    "print('Percentile of Flattened array :',p_flat)\n",
    "print('Percentile of each Column : \\n',p_col)\n",
    "print('Percentile of each row : \\n',p_row)"
   ]
  },
  {
   "cell_type": "code",
   "execution_count": 13,
   "id": "f7774003",
   "metadata": {},
   "outputs": [
    {
     "name": "stdout",
     "output_type": "stream",
     "text": [
      "Mean of Flattened array : -0.5\n",
      "Median of Flattened array : -0.5\n",
      "Standard Deviation of Flattened array : 3.8622100754188224\n",
      "\n",
      "Mean of each Column : [-1.5  1.5 -1.5]\n",
      "Median of each Column : [-1.5  1.5 -1.5]\n",
      "Standard Deviation of each Column : [2.5 3.5 4.5]\n",
      "\n",
      "Mean of each row : [ 0.66666667 -1.66666667]\n",
      "Median of each row : [ 1. -4.]\n",
      "Standard Deviation of each row : [2.05480467 4.78423336]\n"
     ]
    }
   ],
   "source": [
    "  # (iii)\n",
    "mean_flat = np.mean(flat)\n",
    "median_flat = np.median(flat)\n",
    "std_flat = np.std(flat)\n",
    "print('Mean of Flattened array :',mean_flat)\n",
    "print('Median of Flattened array :',median_flat)\n",
    "print('Standard Deviation of Flattened array :',std_flat)\n",
    "print()\n",
    "\n",
    "mean_col = np.mean(array, axis=0)\n",
    "median_col = np.median(array, axis=0)\n",
    "std_col = np.std(array, axis=0)\n",
    "print('Mean of each Column :',mean_col)\n",
    "print('Median of each Column :',median_col)\n",
    "print('Standard Deviation of each Column :',std_col)\n",
    "print()\n",
    "\n",
    "mean_row = np.mean(array, axis=1)\n",
    "median_row = np.median(array, axis=1)\n",
    "std_row = np.std(array, axis=1)\n",
    "print('Mean of each row :',mean_row)\n",
    "print('Median of each row :',median_row)\n",
    "print('Standard Deviation of each row :',std_row)"
   ]
  },
  {
   "cell_type": "markdown",
   "id": "50f98063",
   "metadata": {},
   "source": [
    "(b) For the array: a = np.array([-1.8, -1.6, -0.5, 0.5,1.6, 1.8, 3.0]). Find floor, ceiling and truncated value, rounded values"
   ]
  },
  {
   "cell_type": "code",
   "execution_count": 14,
   "id": "9c314602",
   "metadata": {},
   "outputs": [
    {
     "name": "stdout",
     "output_type": "stream",
     "text": [
      "Floor Values : [-2. -2. -1.  0.  1.  1.  3.]\n",
      "Ceil Values : [-1. -1. -0.  1.  2.  2.  3.]\n",
      "Trunc Values : [-1. -1. -0.  0.  1.  1.  3.]\n",
      "Rounded Values : [-2. -2. -0.  0.  2.  2.  3.]\n"
     ]
    }
   ],
   "source": [
    "# (b)\n",
    "a = np.array([-1.8, -1.6, -0.5, 0.5, 1.6, 1.8, 3.0])\n",
    "floor_vals = np.floor(a)\n",
    "ceil_vals = np.ceil(a)\n",
    "trunc_vals = np.trunc(a)\n",
    "rounded_vals = np.round(a)\n",
    "print('Floor Values :',floor_vals)\n",
    "print('Ceil Values :',ceil_vals)\n",
    "print('Trunc Values :',trunc_vals)\n",
    "print('Rounded Values :',rounded_vals)"
   ]
  },
  {
   "cell_type": "markdown",
   "id": "880c6643",
   "metadata": {},
   "source": [
    "### Ques3. Based on Searching and Sorting   \n",
    "  \n",
    "(a) For the array: array = np.array([10, 52, 62, 16, 16, 54, 453]), find   \n",
    "i. Sorted array  \n",
    "ii. Indices of sorted array  \n",
    "iii. 4 smallest elements  \n",
    "iv. 5 largest elements  "
   ]
  },
  {
   "cell_type": "code",
   "execution_count": 15,
   "id": "aee5dabc",
   "metadata": {},
   "outputs": [
    {
     "name": "stdout",
     "output_type": "stream",
     "text": [
      "Sorted Array : [ 10  16  16  52  54  62 453]\n",
      "Sorted Indices : [0 3 4 1 5 2 6]\n",
      "Smallest 4 : [10 16 16 52]\n",
      "Largest 5 : [ 16  52  54  62 453]\n"
     ]
    }
   ],
   "source": [
    "# (a)\n",
    "array = np.array([10, 52, 62, 16, 16, 54, 453])\n",
    "sorted_array = np.sort(array)\n",
    "sorted_indices = np.argsort(array)\n",
    "smallest_4 = np.sort(array)[:4]\n",
    "largest_5 = np.sort(array)[-5:]\n",
    "print('Sorted Array :',sorted_array)\n",
    "print('Sorted Indices :',sorted_indices)\n",
    "print('Smallest 4 :',smallest_4)\n",
    "print('Largest 5 :',largest_5)"
   ]
  },
  {
   "cell_type": "markdown",
   "id": "17c9936c",
   "metadata": {},
   "source": [
    "(b) For the array: array = np.array([1.0, 1.2, 2.2, 2.0, 3.0, 2.0]), find  \n",
    "i. Integer elements only  \n",
    "ii. Float elements only  "
   ]
  },
  {
   "cell_type": "code",
   "execution_count": 16,
   "id": "7613c51e",
   "metadata": {},
   "outputs": [
    {
     "name": "stdout",
     "output_type": "stream",
     "text": [
      "Integers : [1. 2. 3. 2.]\n",
      "Floats : [1.2 2.2]\n"
     ]
    }
   ],
   "source": [
    "# (b)\n",
    "array2 = np.array([1.0, 1.2, 2.2, 2.0, 3.0, 2.0])\n",
    "integers = array2[array2 == array2.astype(int)]\n",
    "floats = array2[array2 != array2.astype(int)]\n",
    "print('Integers :',integers)\n",
    "print('Floats :',floats)"
   ]
  },
  {
   "cell_type": "markdown",
   "id": "b56f5edf",
   "metadata": {},
   "source": [
    "### Ques4.  \n",
    "  \n",
    "(a) Write a function named img_to_array(path) that reads an image from a specified path and save it as text file on local machine?  \n",
    "(Note: use separate cases for RGB and Grey Scale images)"
   ]
  },
  {
   "cell_type": "code",
   "execution_count": 17,
   "id": "16234f9d",
   "metadata": {},
   "outputs": [
    {
     "name": "stdout",
     "output_type": "stream",
     "text": [
      "Saved grayscale image as sample_grayscale.png\n",
      "Saved: grayscale_image.txt\n",
      "Saved RGB image as sample_rgb.png\n",
      "Saved: rgb_image.txt and rgb_shape.txt\n"
     ]
    }
   ],
   "source": [
    "# (a)\n",
    "from PIL import Image\n",
    "import numpy as np\n",
    "\n",
    "# 100x100 grayscale image with gradient\n",
    "gray_image = np.tile(np.arange(100, dtype=np.uint8), (100, 1))\n",
    "\n",
    "# Saving \n",
    "Image.fromarray(gray_image).save(\"sample_grayscale.png\")\n",
    "print(\"Saved grayscale image as sample_grayscale.png\")\n",
    "\n",
    "def img_to_array(path):\n",
    "    img = Image.open(path)\n",
    "    arr = np.array(img)\n",
    "\n",
    "    if len(arr.shape) == 2:\n",
    "        # Grayscale\n",
    "        np.savetxt(\"grayscale_image.txt\", arr, fmt='%d')\n",
    "        print(\"Saved: grayscale_image.txt\")\n",
    "    else:\n",
    "        # RGB\n",
    "        shape = arr.shape\n",
    "        np.savetxt(\"rgb_image.txt\", arr.reshape(-1, 3), fmt='%d')\n",
    "        with open(\"rgb_shape.txt\", \"w\") as f:\n",
    "            f.write(f\"{shape[0]} {shape[1]}\")\n",
    "        print(\"Saved: rgb_image.txt and rgb_shape.txt\")\n",
    "img_to_array(\"sample_grayscale.png\")\n",
    "\n",
    "\n",
    "# 50x50 RGB image with random colors\n",
    "rgb_image = np.random.randint(0, 256, (50, 50, 3), dtype=np.uint8)\n",
    "Image.fromarray(rgb_image).save(\"sample_rgb.png\")\n",
    "print(\"Saved RGB image as sample_rgb.png\")\n",
    "\n",
    "img_to_array(\"sample_rgb.png\")\n",
    "\n",
    "# Load RGB image from text\n",
    "with open(\"rgb_shape.txt\", \"r\") as f:\n",
    "    h, w = map(int, f.read().split())\n",
    "\n",
    "rgb_flat = np.loadtxt(\"rgb_image.txt\", dtype=int)"
   ]
  },
  {
   "cell_type": "markdown",
   "id": "675fbcfb",
   "metadata": {},
   "source": [
    "(b) Load the saved file into jupyter notebook? "
   ]
  },
  {
   "cell_type": "code",
   "execution_count": 18,
   "id": "8cb70f06",
   "metadata": {},
   "outputs": [
    {
     "name": "stdout",
     "output_type": "stream",
     "text": [
      "Loaded grayscale array shape: (100, 100)\n",
      "Loaded RGB array shape: (50, 50, 3)\n"
     ]
    }
   ],
   "source": [
    "# (b)\n",
    "# Grayscale\n",
    "gray_loaded = np.loadtxt(\"grayscale_image.txt\", dtype=int)\n",
    "print(\"Loaded grayscale array shape:\", gray_loaded.shape)\n",
    "\n",
    "# RGB\n",
    "rgb_loaded = rgb_flat.reshape((h, w, 3))\n",
    "print(\"Loaded RGB array shape:\", rgb_loaded.shape)\n"
   ]
  }
 ],
 "metadata": {
  "kernelspec": {
   "display_name": "Python 3",
   "language": "python",
   "name": "python3"
  },
  "language_info": {
   "codemirror_mode": {
    "name": "ipython",
    "version": 3
   },
   "file_extension": ".py",
   "mimetype": "text/x-python",
   "name": "python",
   "nbconvert_exporter": "python",
   "pygments_lexer": "ipython3",
   "version": "3.11.9"
  }
 },
 "nbformat": 4,
 "nbformat_minor": 5
}
